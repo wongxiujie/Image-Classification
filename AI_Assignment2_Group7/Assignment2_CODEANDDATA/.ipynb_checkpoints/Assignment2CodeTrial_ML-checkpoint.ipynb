{
 "cells": [
  {
   "cell_type": "markdown",
   "metadata": {},
   "source": [
    "# Random Forest Classifier\n",
    "only accept 2D or lower array"
   ]
  },
  {
   "cell_type": "markdown",
   "metadata": {},
   "source": [
    "# Import necessary library\n",
    "Must be imported before loading the training data set"
   ]
  },
  {
   "cell_type": "code",
   "execution_count": 1,
   "metadata": {},
   "outputs": [],
   "source": [
    "import time\n",
    "import matplotlib\n",
    "import matplotlib.pyplot as plt\n",
    "import numpy as np\n",
    "import math\n",
    "\n",
    "from sklearn.datasets import fetch_openml\n",
    "from sklearn.linear_model import LogisticRegression\n",
    "from sklearn.model_selection import train_test_split\n",
    "from sklearn.preprocessing import StandardScaler\n",
    "from sklearn.utils import check_random_state\n",
    "import numpy as np\n",
    "import matplotlib.pyplot as plt\n",
    "import os\n",
    "import cv2\n",
    "from tqdm import tqdm\n",
    "import pickle"
   ]
  },
  {
   "cell_type": "markdown",
   "metadata": {},
   "source": [
    "# Load 1D_TrainingData_FEI"
   ]
  },
  {
   "cell_type": "code",
   "execution_count": 2,
   "metadata": {},
   "outputs": [
    {
     "name": "stderr",
     "output_type": "stream",
     "text": [
      "100%|██████████████████████████████████████████████████████████████████████████████| 200/200 [00:00<00:00, 1029.74it/s]\n",
      "100%|██████████████████████████████████████████████████████████████████████████████| 200/200 [00:00<00:00, 1061.75it/s]"
     ]
    },
    {
     "name": "stdout",
     "output_type": "stream",
     "text": [
      "Length of training Data\n",
      "400\n",
      "0\n",
      "0\n",
      "1\n",
      "1\n",
      "1\n",
      "1\n",
      "1\n",
      "1\n",
      "0\n",
      "1\n"
     ]
    },
    {
     "name": "stderr",
     "output_type": "stream",
     "text": [
      "\n"
     ]
    }
   ],
   "source": [
    "DATADIR = \"AI_Assignment2_DataSet_V1\\FEI_DATASET_Sorted_V3\"\n",
    "CATEGORIES = [\"bad\", \"good\"]\n",
    "\n",
    "IMG_SIZE = 50 #set image size\n",
    "training_data = []\n",
    "\n",
    "def create_training_data():\n",
    "    for category in CATEGORIES:  # do bad and good\n",
    "\n",
    "        path = os.path.join(DATADIR,category)  # create path to bad and good\n",
    "        class_num = CATEGORIES.index(category)  # get the classification  (0 or a 1). 0=bad 1=good\n",
    "\n",
    "        for img in tqdm(os.listdir(path)):  # iterate over each image per dogs and cats\n",
    "            try:\n",
    "                img_array = cv2.imread(os.path.join(path,img) ,cv2.IMREAD_GRAYSCALE)  # convert to array\n",
    "                new_array = cv2.resize(img_array, (IMG_SIZE, IMG_SIZE))  # resize to normalize data size\n",
    "                training_data.append([new_array, class_num])  # add this to our training_data\n",
    "            except Exception as e:  # in the interest in keeping the output clean...\n",
    "                pass\n",
    "            #except OSError as e:\n",
    "            #    print(\"OSErrroBad img most likely\", e, os.path.join(path,img))\n",
    "            #except Exception as e:\n",
    "            #    print(\"general exception\", e, os.path.join(path,img))\n",
    "\n",
    "create_training_data()\n",
    "print('Length of training Data')\n",
    "print(len(training_data))\n",
    "\n",
    "# Shuffle the train data\n",
    "import random\n",
    "random.shuffle(training_data)\n",
    "\n",
    "# Check the train data were shuffled successful\n",
    "print(\"Check Shuffled Data\")\n",
    "for sample in training_data[:10]:\n",
    "    print(sample[1])\n",
    "\n",
    "#Add the trained data into a list\n",
    "X = []\n",
    "y = []\n",
    "\n",
    "for features,label in training_data:\n",
    "    X.append(features)\n",
    "    y.append(label)\n",
    "\n",
    "#Change the data to 2D array\n",
    "X_2D=[]\n",
    "for a in X:\n",
    "    X_2D.append(a.reshape(-1))\n",
    "    \n",
    "\n",
    "#Save the processed Training Data into a pickle file\n",
    "pickle_out = open(\"X_FEI_2D.pickle\",\"wb\")\n",
    "pickle.dump(X_2D, pickle_out)\n",
    "pickle_out.close()\n",
    "\n",
    "pickle_out = open(\"y_FEI_2D.pickle\",\"wb\")\n",
    "pickle.dump(y, pickle_out)\n",
    "pickle_out.close()"
   ]
  },
  {
   "cell_type": "markdown",
   "metadata": {},
   "source": [
    "# Load 1D_TrainingData_JAFFE"
   ]
  },
  {
   "cell_type": "code",
   "execution_count": 5,
   "metadata": {},
   "outputs": [
    {
     "name": "stderr",
     "output_type": "stream",
     "text": [
      "100%|████████████████████████████████████████████████████████████████████████████████| 40/40 [00:00<00:00, 1708.33it/s]\n",
      "100%|████████████████████████████████████████████████████████████████████████████████| 39/39 [00:00<00:00, 1737.40it/s]"
     ]
    },
    {
     "name": "stdout",
     "output_type": "stream",
     "text": [
      "Length of training Data\n",
      "79\n",
      "Check Shuffled Data\n",
      "1\n",
      "1\n",
      "1\n",
      "0\n",
      "1\n",
      "0\n",
      "0\n",
      "1\n",
      "0\n",
      "0\n"
     ]
    },
    {
     "name": "stderr",
     "output_type": "stream",
     "text": [
      "\n"
     ]
    }
   ],
   "source": [
    "DATADIR = \"AI_Assignment2_DataSet_V1\\JAFFE DATASET_Sorted_V3\"\n",
    "CATEGORIES = [\"bad\", \"good\"]\n",
    "\n",
    "IMG_SIZE = 50 #set image size\n",
    "training_data = []\n",
    "\n",
    "def create_training_data():\n",
    "    for category in CATEGORIES:  # do bad and good\n",
    "\n",
    "        path = os.path.join(DATADIR,category)  # create path to bad and good\n",
    "        class_num = CATEGORIES.index(category)  # get the classification  (0 or a 1). 0=bad 1=good\n",
    "\n",
    "        for img in tqdm(os.listdir(path)):  # iterate over each image per dogs and cats\n",
    "            try:\n",
    "                img_array = cv2.imread(os.path.join(path,img) ,cv2.IMREAD_GRAYSCALE)  # convert to array\n",
    "                new_array = cv2.resize(img_array, (IMG_SIZE, IMG_SIZE))  # resize to normalize data size\n",
    "                training_data.append([new_array, class_num])  # add this to our training_data\n",
    "            except Exception as e:  # in the interest in keeping the output clean...\n",
    "                pass\n",
    "            #except OSError as e:\n",
    "            #    print(\"OSErrroBad img most likely\", e, os.path.join(path,img))\n",
    "            #except Exception as e:\n",
    "            #    print(\"general exception\", e, os.path.join(path,img))\n",
    "\n",
    "create_training_data()\n",
    "print('Length of training Data')\n",
    "print(len(training_data))\n",
    "\n",
    "# Shuffle the train data\n",
    "import random\n",
    "random.shuffle(training_data)\n",
    "\n",
    "# Check the train data were shuffled successful\n",
    "print(\"Check Shuffled Data\")\n",
    "for sample in training_data[:10]:\n",
    "    print(sample[1])\n",
    "\n",
    "#Add the trained data into a list\n",
    "X = []\n",
    "y = []\n",
    "\n",
    "for features,label in training_data:\n",
    "    X.append(features)\n",
    "    y.append(label)\n",
    "\n",
    "#Change the data to 2D array\n",
    "X_2D=[]\n",
    "for a in X:\n",
    "    X_2D.append(a.reshape(-1))\n",
    "    \n",
    "\n",
    "#Save the processed Training Data into a pickle file\n",
    "pickle_out = open(\"X_JAFFE_2D.pickle\",\"wb\")\n",
    "pickle.dump(X_2D, pickle_out)\n",
    "pickle_out.close()\n",
    "\n",
    "pickle_out = open(\"y_JAFFE_2D.pickle\",\"wb\")\n",
    "pickle.dump(y, pickle_out)\n",
    "pickle_out.close()"
   ]
  },
  {
   "cell_type": "markdown",
   "metadata": {},
   "source": [
    "# Load 1D_TrainingData_FEIANDJAFFE"
   ]
  },
  {
   "cell_type": "code",
   "execution_count": 2,
   "metadata": {},
   "outputs": [
    {
     "name": "stderr",
     "output_type": "stream",
     "text": [
      "100%|██████████████████████████████████████████████████████████████████████████████| 240/240 [00:00<00:00, 1069.20it/s]\n",
      "100%|██████████████████████████████████████████████████████████████████████████████| 239/239 [00:00<00:00, 1123.29it/s]"
     ]
    },
    {
     "name": "stdout",
     "output_type": "stream",
     "text": [
      "Length of training Data\n",
      "479\n",
      "Check Shuffled Data\n",
      "0\n",
      "1\n",
      "0\n",
      "0\n",
      "1\n",
      "1\n",
      "0\n",
      "1\n",
      "0\n",
      "0\n"
     ]
    },
    {
     "name": "stderr",
     "output_type": "stream",
     "text": [
      "\n"
     ]
    }
   ],
   "source": [
    "DATADIR = \"AI_Assignment2_DataSet_V1\\FEI_AND_JAFFE_DATASET_Sorted_V3\"\n",
    "CATEGORIES = [\"bad\", \"good\"]\n",
    "\n",
    "IMG_SIZE = 50 #set image size\n",
    "training_data = []\n",
    "\n",
    "def create_training_data():\n",
    "    for category in CATEGORIES:  # do bad and good\n",
    "\n",
    "        path = os.path.join(DATADIR,category)  # create path to bad and good\n",
    "        class_num = CATEGORIES.index(category)  # get the classification  (0 or a 1). 0=bad 1=good\n",
    "\n",
    "        for img in tqdm(os.listdir(path)):  # iterate over each image per dogs and cats\n",
    "            try:\n",
    "                img_array = cv2.imread(os.path.join(path,img) ,cv2.IMREAD_GRAYSCALE)  # convert to array\n",
    "                new_array = cv2.resize(img_array, (IMG_SIZE, IMG_SIZE))  # resize to normalize data size\n",
    "                training_data.append([new_array, class_num])  # add this to our training_data\n",
    "            except Exception as e:  # in the interest in keeping the output clean...\n",
    "                pass\n",
    "            #except OSError as e:\n",
    "            #    print(\"OSErrroBad img most likely\", e, os.path.join(path,img))\n",
    "            #except Exception as e:\n",
    "            #    print(\"general exception\", e, os.path.join(path,img))\n",
    "\n",
    "create_training_data()\n",
    "print('Length of training Data')\n",
    "print(len(training_data))\n",
    "\n",
    "# Shuffle the train data\n",
    "import random\n",
    "random.shuffle(training_data)\n",
    "\n",
    "# Check the train data were shuffled successful\n",
    "print(\"Check Shuffled Data\")\n",
    "for sample in training_data[:10]:\n",
    "    print(sample[1])\n",
    "\n",
    "#Add the trained data into a list\n",
    "X = []\n",
    "y = []\n",
    "\n",
    "for features,label in training_data:\n",
    "    X.append(features)\n",
    "    y.append(label)\n",
    "\n",
    "#Change the data to 2D array\n",
    "X_2D=[]\n",
    "for a in X:\n",
    "    X_2D.append(a.reshape(-1))\n",
    "    \n",
    "\n",
    "#Save the processed Training Data into a pickle file\n",
    "pickle_out = open(\"X_FEIANDJAFFE_2D.pickle\",\"wb\")\n",
    "pickle.dump(X_2D, pickle_out)\n",
    "pickle_out.close()\n",
    "\n",
    "pickle_out = open(\"y_FEIANDJAFFE_2D.pickle\",\"wb\")\n",
    "pickle.dump(y, pickle_out)\n",
    "pickle_out.close()"
   ]
  },
  {
   "cell_type": "markdown",
   "metadata": {},
   "source": [
    "# Random Forest Classifier"
   ]
  },
  {
   "cell_type": "code",
   "execution_count": 11,
   "metadata": {},
   "outputs": [
    {
     "name": "stdout",
     "output_type": "stream",
     "text": [
      "479\n",
      "479\n"
     ]
    }
   ],
   "source": [
    "\n",
    "import pickle\n",
    "# TRAINED_DATASET_X=\"X_FEI_2D.pickle\"\n",
    "# TRAINED_DATASET_y=\"y_FEI_2D.pickle\"\n",
    "# TRAINED_DATASET_X=\"X_JAFFE_2D.pickle\"\n",
    "# TRAINED_DATASET_y=\"y_JAFFE_2D.pickle\"\n",
    "TRAINED_DATASET_X=\"X_FEIANDJAFFE_2D.pickle\"\n",
    "TRAINED_DATASET_y=\"y_FEIANDJAFFE_2D.pickle\"\n",
    "\n",
    "\n",
    "\n",
    "pickle_in = open(TRAINED_DATASET_X,\"rb\")\n",
    "X_train = pickle.load(pickle_in)\n",
    "\n",
    "pickle_in = open(TRAINED_DATASET_y,\"rb\")\n",
    "y_train = pickle.load(pickle_in)\n",
    "\n",
    "# Double check the length of data and labels\n",
    "print(len(X_train))\n",
    "print(len(y_train))"
   ]
  },
  {
   "cell_type": "code",
   "execution_count": 12,
   "metadata": {},
   "outputs": [
    {
     "data": {
      "text/plain": [
       "RandomForestClassifier(bootstrap=True, ccp_alpha=0.0, class_weight=None,\n",
       "                       criterion='gini', max_depth=None, max_features='auto',\n",
       "                       max_leaf_nodes=None, max_samples=None,\n",
       "                       min_impurity_decrease=0.0, min_impurity_split=None,\n",
       "                       min_samples_leaf=1, min_samples_split=2,\n",
       "                       min_weight_fraction_leaf=0.0, n_estimators=10, n_jobs=-1,\n",
       "                       oob_score=False, random_state=None, verbose=0,\n",
       "                       warm_start=False)"
      ]
     },
     "execution_count": 12,
     "metadata": {},
     "output_type": "execute_result"
    }
   ],
   "source": [
    "from sklearn.ensemble import BaggingClassifier, RandomForestClassifier, BaggingRegressor, RandomForestRegressor, GradientBoostingRegressor\n",
    "from sklearn.model_selection import cross_val_predict\n",
    "from sklearn.metrics import plot_confusion_matrix\n",
    "from sklearn import metrics\n",
    "\n",
    "import sklearn\n",
    "# forest_clf = RandomForestClassifier(random_state=42)\n",
    "# y_probas_forest = cross_val_predict(forest_clf, X_train, y_train, cv=3,\n",
    "# #method=\"predict_proba\")\n",
    "rfc = RandomForestClassifier(n_jobs=-1, n_estimators=10)\n",
    "rfc.fit(X_train, y_train)"
   ]
  },
  {
   "cell_type": "code",
   "execution_count": 13,
   "metadata": {},
   "outputs": [
    {
     "name": "stderr",
     "output_type": "stream",
     "text": [
      "100%|████████████████████████████████████████████████████████████████████████████████| 20/20 [00:00<00:00, 1078.56it/s]\n",
      "100%|████████████████████████████████████████████████████████████████████████████████| 20/20 [00:00<00:00, 1078.56it/s]\n"
     ]
    }
   ],
   "source": [
    "X_test_data = []\n",
    "X_test_data_2D=[]\n",
    "y_test_data=[]\n",
    "files = []\n",
    "files_path=[]\n",
    "def loadall_test_data():\n",
    "    \n",
    "    DATADIR = \"Assignment_Image\"\n",
    "    CATEGORIES = [\"bad\", \"good\"]\n",
    "    for category in CATEGORIES:  # do bad and good\n",
    "        path = os.path.join(DATADIR,category)  # create path to bad and good\n",
    "        for img in tqdm(os.listdir(path)):  # iterate over each image per bad and good\n",
    "            try:\n",
    "                files_path.append(os.path.join(path,img))\n",
    "                files.append(img) # Add file name\n",
    "                img_array = cv2.imread(os.path.join(path,img) ,cv2.IMREAD_GRAYSCALE)  # convert to array\n",
    "                new_array = cv2.resize(img_array, (IMG_SIZE, IMG_SIZE))  # resize to normalize data size\n",
    "                X_test_data.append(new_array)  # add this to our test_data\n",
    "                if(category==CATEGORIES[0]):\n",
    "                    y_test_data.append(0)\n",
    "                elif(category==CATEGORIES[1]):\n",
    "                    y_test_data.append(1)\n",
    "                \n",
    "            except Exception as e:  # in the interest in keeping the output clean...\n",
    "                pass\n",
    "            #except OSError as e:\n",
    "            #    print(\"OSErrroBad img most likely\", e, os.path.join(path,img))\n",
    "            #except Exception as e:\n",
    "            #    print(\"general exception\", e, os.path.join(path,img))\n",
    "    \n",
    "loadall_test_data()\n",
    "for b in X_test_data:\n",
    "    X_test_data_2D.append(b.reshape(-1))\n"
   ]
  },
  {
   "cell_type": "code",
   "execution_count": 14,
   "metadata": {},
   "outputs": [
    {
     "name": "stdout",
     "output_type": "stream",
     "text": [
      "0.525\n",
      "[0 0 1 1 0 1 1 0 0 0 0 0 0 0 0 0 1 1 1 1 0 1 1 1 0 1 0 0 1 1 1 0 1 0 0 0 0\n",
      " 0 1 0]\n",
      "File Name: 1.JPG\n",
      "File Path: Assignment_Image\\bad\\1.JPG\n",
      "Label:  bad\n",
      "0\n",
      "File Name: 10.JPG\n",
      "File Path: Assignment_Image\\bad\\10.JPG\n",
      "Label:  bad\n",
      "1\n",
      "File Name: 11.JPG\n",
      "File Path: Assignment_Image\\bad\\11.JPG\n",
      "Label:  good\n",
      "2\n",
      "File Name: 12.JPG\n",
      "File Path: Assignment_Image\\bad\\12.JPG\n",
      "Label:  good\n",
      "3\n",
      "File Name: 13.JPG\n",
      "File Path: Assignment_Image\\bad\\13.JPG\n",
      "Label:  bad\n",
      "4\n",
      "File Name: 14.JPG\n",
      "File Path: Assignment_Image\\bad\\14.JPG\n",
      "Label:  good\n",
      "5\n",
      "File Name: 15.JPG\n",
      "File Path: Assignment_Image\\bad\\15.JPG\n",
      "Label:  good\n",
      "6\n",
      "File Name: 16.JPG\n",
      "File Path: Assignment_Image\\bad\\16.JPG\n",
      "Label:  bad\n",
      "7\n",
      "File Name: 17.JPG\n",
      "File Path: Assignment_Image\\bad\\17.JPG\n",
      "Label:  bad\n",
      "8\n",
      "File Name: 18.JPG\n",
      "File Path: Assignment_Image\\bad\\18.JPG\n",
      "Label:  bad\n",
      "9\n",
      "File Name: 19.JPG\n",
      "File Path: Assignment_Image\\bad\\19.JPG\n",
      "Label:  bad\n",
      "10\n",
      "File Name: 2.JPG\n",
      "File Path: Assignment_Image\\bad\\2.JPG\n",
      "Label:  bad\n",
      "11\n",
      "File Name: 20.JPG\n",
      "File Path: Assignment_Image\\bad\\20.JPG\n",
      "Label:  bad\n",
      "12\n",
      "File Name: 3.JPG\n",
      "File Path: Assignment_Image\\bad\\3.JPG\n",
      "Label:  bad\n",
      "13\n",
      "File Name: 4.JPG\n",
      "File Path: Assignment_Image\\bad\\4.JPG\n",
      "Label:  bad\n",
      "14\n",
      "File Name: 5.JPG\n",
      "File Path: Assignment_Image\\bad\\5.JPG\n",
      "Label:  bad\n",
      "15\n",
      "File Name: 6.JPG\n",
      "File Path: Assignment_Image\\bad\\6.JPG\n",
      "Label:  good\n",
      "16\n",
      "File Name: 7.JPG\n",
      "File Path: Assignment_Image\\bad\\7.JPG\n",
      "Label:  good\n",
      "17\n",
      "File Name: 8.JPG\n",
      "File Path: Assignment_Image\\bad\\8.JPG\n",
      "Label:  good\n",
      "18\n",
      "File Name: 9.JPG\n",
      "File Path: Assignment_Image\\bad\\9.JPG\n",
      "Label:  good\n",
      "19\n",
      "File Name: 1.JPG\n",
      "File Path: Assignment_Image\\good\\1.JPG\n",
      "Label:  bad\n",
      "20\n",
      "File Name: 10.JPG\n",
      "File Path: Assignment_Image\\good\\10.JPG\n",
      "Label:  good\n",
      "21\n",
      "File Name: 11.JPG\n",
      "File Path: Assignment_Image\\good\\11.JPG\n",
      "Label:  good\n",
      "22\n",
      "File Name: 12.JPG\n",
      "File Path: Assignment_Image\\good\\12.JPG\n",
      "Label:  good\n",
      "23\n",
      "File Name: 13.JPG\n",
      "File Path: Assignment_Image\\good\\13.JPG\n",
      "Label:  bad\n",
      "24\n",
      "File Name: 14.JPG\n",
      "File Path: Assignment_Image\\good\\14.JPG\n",
      "Label:  good\n",
      "25\n",
      "File Name: 15.JPG\n",
      "File Path: Assignment_Image\\good\\15.JPG\n",
      "Label:  bad\n",
      "26\n",
      "File Name: 16.JPG\n",
      "File Path: Assignment_Image\\good\\16.JPG\n",
      "Label:  bad\n",
      "27\n",
      "File Name: 17.JPG\n",
      "File Path: Assignment_Image\\good\\17.JPG\n",
      "Label:  good\n",
      "28\n",
      "File Name: 18.JPG\n",
      "File Path: Assignment_Image\\good\\18.JPG\n",
      "Label:  good\n",
      "29\n",
      "File Name: 19.JPG\n",
      "File Path: Assignment_Image\\good\\19.JPG\n",
      "Label:  good\n",
      "30\n",
      "File Name: 2.JPG\n",
      "File Path: Assignment_Image\\good\\2.JPG\n",
      "Label:  bad\n",
      "31\n",
      "File Name: 20.JPG\n",
      "File Path: Assignment_Image\\good\\20.JPG\n",
      "Label:  good\n",
      "32\n",
      "File Name: 3.JPG\n",
      "File Path: Assignment_Image\\good\\3.JPG\n",
      "Label:  bad\n",
      "33\n",
      "File Name: 4.JPG\n",
      "File Path: Assignment_Image\\good\\4.JPG\n",
      "Label:  bad\n",
      "34\n",
      "File Name: 5.JPG\n",
      "File Path: Assignment_Image\\good\\5.JPG\n",
      "Label:  bad\n",
      "35\n",
      "File Name: 6.JPG\n",
      "File Path: Assignment_Image\\good\\6.JPG\n",
      "Label:  bad\n",
      "36\n",
      "File Name: 7.JPG\n",
      "File Path: Assignment_Image\\good\\7.JPG\n",
      "Label:  bad\n",
      "37\n",
      "File Name: 8.JPG\n",
      "File Path: Assignment_Image\\good\\8.JPG\n",
      "Label:  good\n",
      "38\n",
      "File Name: 9.JPG\n",
      "File Path: Assignment_Image\\good\\9.JPG\n",
      "Label:  bad\n",
      "39\n"
     ]
    }
   ],
   "source": [
    "#Test the data\n",
    "rfc.score(X_test_data_2D, y_test_data)\n",
    "y_pred=rfc.predict(X_test_data_2D)\n",
    "print(rfc.score(X_test_data_2D, y_test_data))\n",
    "print(y_pred)\n",
    "\n",
    "for i, p in enumerate(y_pred):\n",
    "    print(\"File Name:\",files[i])\n",
    "    print(\"File Path:\",files_path[i])\n",
    "    print(\"Label: \",CATEGORIES[p])\n",
    "    print(i)"
   ]
  },
  {
   "cell_type": "code",
   "execution_count": 15,
   "metadata": {},
   "outputs": [
    {
     "data": {
      "text/plain": [
       "<Figure size 864x576 with 0 Axes>"
      ]
     },
     "metadata": {},
     "output_type": "display_data"
    },
    {
     "data": {
      "image/png": "[encoded data removed]",
      "text/plain": [
       "<Figure size 864x864 with 2 Axes>"
      ]
     },
     "metadata": {
      "needs_background": "light"
     },
     "output_type": "display_data"
    }
   ],
   "source": [
    "# EITHER RUN THIS CELL OR THE PREVIOUS CELL DO NOT RUN BOTH\n",
    "\n",
    "\n",
    "plt.figure(figsize=(12,8))\n",
    "f,ax=plt.subplots(1,1,figsize=(12,12))\n",
    "# print(\"Classification report for classifier %s:\\n%s\\n\"\n",
    "#       % (rfc, metrics.classification_report(y_test, y_pred)))\n",
    "disp = metrics.plot_confusion_matrix(rfc, X_test_data_2D, y_test_data,normalize='true',ax=ax)\n",
    "\n",
    "# disp.figure_.suptitle(\"Confusion Matrix\")\n",
    "# print(\"Confusion matrix:\\n%s\" % disp.confusion_matrix)\n"
   ]
  },
  {
   "cell_type": "code",
   "execution_count": 10,
   "metadata": {},
   "outputs": [
    {
     "name": "stdout",
     "output_type": "stream",
     "text": [
      "Sparsity with L1 penalty: 99.52%\n",
      "Test score with L1 penalty: 0.3500\n"
     ]
    },
    {
     "ename": "ValueError",
     "evalue": "cannot reshape array of size 2500 into shape (28,28)",
     "output_type": "error",
     "traceback": [
      "\u001b[1;31m---------------------------------------------------------------------------\u001b[0m",
      "\u001b[1;31mValueError\u001b[0m                                Traceback (most recent call last)",
      "\u001b[1;32m<ipython-input-10-616876614f5c>\u001b[0m in \u001b[0;36m<module>\u001b[1;34m\u001b[0m\n\u001b[0;32m     21\u001b[0m \u001b[1;32mfor\u001b[0m \u001b[0mi\u001b[0m \u001b[1;32min\u001b[0m \u001b[0mrange\u001b[0m\u001b[1;33m(\u001b[0m\u001b[1;36m10\u001b[0m\u001b[1;33m)\u001b[0m\u001b[1;33m:\u001b[0m\u001b[1;33m\u001b[0m\u001b[1;33m\u001b[0m\u001b[0m\n\u001b[0;32m     22\u001b[0m     \u001b[0ml1_plot\u001b[0m \u001b[1;33m=\u001b[0m \u001b[0mplt\u001b[0m\u001b[1;33m.\u001b[0m\u001b[0msubplot\u001b[0m\u001b[1;33m(\u001b[0m\u001b[1;36m2\u001b[0m\u001b[1;33m,\u001b[0m \u001b[1;36m5\u001b[0m\u001b[1;33m,\u001b[0m \u001b[0mi\u001b[0m \u001b[1;33m+\u001b[0m \u001b[1;36m1\u001b[0m\u001b[1;33m)\u001b[0m\u001b[1;33m\u001b[0m\u001b[1;33m\u001b[0m\u001b[0m\n\u001b[1;32m---> 23\u001b[1;33m     l1_plot.imshow(coef[i].reshape(28, 28), interpolation='nearest',\n\u001b[0m\u001b[0;32m     24\u001b[0m                    cmap=plt.cm.RdBu, vmin=-scale, vmax=scale)\n\u001b[0;32m     25\u001b[0m     \u001b[0ml1_plot\u001b[0m\u001b[1;33m.\u001b[0m\u001b[0mset_xticks\u001b[0m\u001b[1;33m(\u001b[0m\u001b[1;33m(\u001b[0m\u001b[1;33m)\u001b[0m\u001b[1;33m)\u001b[0m\u001b[1;33m\u001b[0m\u001b[1;33m\u001b[0m\u001b[0m\n",
      "\u001b[1;31mValueError\u001b[0m: cannot reshape array of size 2500 into shape (28,28)"
     ]
    },
    {
     "data": {
      "image/png": "[encoded data removed]",
      "text/plain": [
       "<Figure size 720x360 with 1 Axes>"
      ]
     },
     "metadata": {
      "needs_background": "light"
     },
     "output_type": "display_data"
    }
   ],
   "source": [
    "train_samples=5000\n",
    "scaler = StandardScaler()\n",
    "\n",
    "X_train = scaler.fit_transform(X_train)\n",
    "X_test_data_2D = scaler.transform(X_test_data_2D)\n",
    "\n",
    "# Turn up tolerance for faster convergence\n",
    "clf = LogisticRegression(\n",
    "    C=50. / train_samples, penalty='l1', solver='saga', tol=0.1\n",
    ")\n",
    "clf.fit(X_train, y_train)\n",
    "sparsity = np.mean(clf.coef_ == 0) * 100\n",
    "score = clf.score(X_test_data_2D, y_test_data)\n",
    "# print('Best C % .4f' % clf.C_)\n",
    "print(\"Sparsity with L1 penalty: %.2f%%\" % sparsity)\n",
    "print(\"Test score with L1 penalty: %.4f\" % score)\n",
    "\n",
    "coef = clf.coef_.copy()\n",
    "plt.figure(figsize=(10, 5))\n",
    "scale = np.abs(coef).max()\n",
    "for i in range(10):\n",
    "    l1_plot = plt.subplot(2, 5, i + 1)\n",
    "    l1_plot.imshow(coef[i].reshape(28, 28), interpolation='nearest',\n",
    "                   cmap=plt.cm.RdBu, vmin=-scale, vmax=scale)\n",
    "    l1_plot.set_xticks(())\n",
    "    l1_plot.set_yticks(())\n",
    "    l1_plot.set_xlabel('Class %i' % i)\n",
    "plt.suptitle('Classification vector for...')\n",
    "\n",
    "#run_time = time.time() - t0\n",
    "#print('Example run in %.3f s' % run_time)\n",
    "plt.show()"
   ]
  },
  {
   "cell_type": "markdown",
   "metadata": {},
   "source": [
    "# Week 8"
   ]
  },
  {
   "cell_type": "code",
   "execution_count": 55,
   "metadata": {},
   "outputs": [],
   "source": [
    "from sklearn.ensemble import BaggingClassifier, RandomForestClassifier, BaggingRegressor, RandomForestRegressor, GradientBoostingRegressor\n",
    "from sklearn.model_selection import cross_val_predict\n",
    "from sklearn.metrics import plot_confusion_matrix\n",
    "from sklearn import metrics\n",
    "\n",
    "import sklearn\n",
    "# forest_clf = RandomForestClassifier(random_state=42)\n",
    "# y_probas_forest = cross_val_predict(forest_clf, X_train, y_train, cv=3,\n",
    "# #method=\"predict_proba\")"
   ]
  },
  {
   "cell_type": "code",
   "execution_count": 58,
   "metadata": {},
   "outputs": [
    {
     "name": "stdout",
     "output_type": "stream",
     "text": [
      "['6' '1' '5' ... '3' '4' '0']\n"
     ]
    }
   ],
   "source": [
    "rfc.score(X_test, y_test)\n",
    "y_pred=rfc.predict(X_test)\n",
    "print(y_pred)"
   ]
  },
  {
   "cell_type": "code",
   "execution_count": 59,
   "metadata": {
    "scrolled": true
   },
   "outputs": [
    {
     "ename": "ModuleNotFoundError",
     "evalue": "No module named 'scikitplot'",
     "output_type": "error",
     "traceback": [
      "\u001b[1;31m---------------------------------------------------------------------------\u001b[0m",
      "\u001b[1;31mModuleNotFoundError\u001b[0m                       Traceback (most recent call last)",
      "\u001b[1;32m<ipython-input-59-eac852abd36e>\u001b[0m in \u001b[0;36m<module>\u001b[1;34m\u001b[0m\n\u001b[0;32m      1\u001b[0m \u001b[1;31m# EITHER RUN THIS CELL OR THE NEXT CELL DO NOT RUN BOTH\u001b[0m\u001b[1;33m\u001b[0m\u001b[1;33m\u001b[0m\u001b[1;33m\u001b[0m\u001b[0m\n\u001b[0;32m      2\u001b[0m \u001b[1;33m\u001b[0m\u001b[0m\n\u001b[1;32m----> 3\u001b[1;33m \u001b[1;32mimport\u001b[0m \u001b[0mscikitplot\u001b[0m \u001b[1;32mas\u001b[0m \u001b[0mskplt\u001b[0m\u001b[1;33m\u001b[0m\u001b[1;33m\u001b[0m\u001b[0m\n\u001b[0m\u001b[0;32m      4\u001b[0m \u001b[0mplt\u001b[0m\u001b[1;33m.\u001b[0m\u001b[0mfigure\u001b[0m\u001b[1;33m(\u001b[0m\u001b[0mfigsize\u001b[0m\u001b[1;33m=\u001b[0m\u001b[1;33m(\u001b[0m\u001b[1;36m12\u001b[0m\u001b[1;33m,\u001b[0m\u001b[1;36m8\u001b[0m\u001b[1;33m)\u001b[0m\u001b[1;33m)\u001b[0m\u001b[1;33m\u001b[0m\u001b[1;33m\u001b[0m\u001b[0m\n\u001b[0;32m      5\u001b[0m \u001b[0mf\u001b[0m\u001b[1;33m,\u001b[0m\u001b[0max\u001b[0m\u001b[1;33m=\u001b[0m\u001b[0mplt\u001b[0m\u001b[1;33m.\u001b[0m\u001b[0msubplots\u001b[0m\u001b[1;33m(\u001b[0m\u001b[1;36m1\u001b[0m\u001b[1;33m,\u001b[0m\u001b[1;36m1\u001b[0m\u001b[1;33m,\u001b[0m\u001b[0mfigsize\u001b[0m\u001b[1;33m=\u001b[0m\u001b[1;33m(\u001b[0m\u001b[1;36m12\u001b[0m\u001b[1;33m,\u001b[0m\u001b[1;36m12\u001b[0m\u001b[1;33m)\u001b[0m\u001b[1;33m)\u001b[0m\u001b[1;33m\u001b[0m\u001b[1;33m\u001b[0m\u001b[0m\n",
      "\u001b[1;31mModuleNotFoundError\u001b[0m: No module named 'scikitplot'"
     ]
    }
   ],
   "source": [
    "# EITHER RUN THIS CELL OR THE NEXT CELL DO NOT RUN BOTH\n",
    "\n",
    "import scikitplot as skplt\n",
    "plt.figure(figsize=(12,8))\n",
    "f,ax=plt.subplots(1,1,figsize=(12,12))\n",
    "#sklearn.metrics.plot_confusion_matrix(rfc,y_test, y_pred)\n",
    "skplt.metrics.plot_confusion_matrix(y_test, y_pred, normalize='true',ax=ax)\n",
    "plt.show()"
   ]
  },
  {
   "cell_type": "code",
   "execution_count": 60,
   "metadata": {},
   "outputs": [
    {
     "data": {
      "text/plain": [
       "<Figure size 864x576 with 0 Axes>"
      ]
     },
     "metadata": {},
     "output_type": "display_data"
    },
    {
     "data": {
      "image/png": "[encoded data removed]",
      "text/plain": [
       "<Figure size 864x864 with 2 Axes>"
      ]
     },
     "metadata": {
      "needs_background": "light"
     },
     "output_type": "display_data"
    }
   ],
   "source": [
    "# EITHER RUN THIS CELL OR THE PREVIOUS CELL DO NOT RUN BOTH\n",
    "\n",
    "\n",
    "plt.figure(figsize=(12,8))\n",
    "f,ax=plt.subplots(1,1,figsize=(12,12))\n",
    "# print(\"Classification report for classifier %s:\\n%s\\n\"\n",
    "#       % (rfc, metrics.classification_report(y_test, y_pred)))\n",
    "disp = metrics.plot_confusion_matrix(rfc, X_test, y_test,normalize='true',ax=ax)\n",
    "\n",
    "# disp.figure_.suptitle(\"Confusion Matrix\")\n",
    "# print(\"Confusion matrix:\\n%s\" % disp.confusion_matrix)"
   ]
  },
  {
   "cell_type": "code",
   "execution_count": 29,
   "metadata": {},
   "outputs": [
    {
     "ename": "NameError",
     "evalue": "name 'X_test' is not defined",
     "output_type": "error",
     "traceback": [
      "\u001b[1;31m---------------------------------------------------------------------------\u001b[0m",
      "\u001b[1;31mNameError\u001b[0m                                 Traceback (most recent call last)",
      "\u001b[1;32m<ipython-input-29-e3d6aa2eb2da>\u001b[0m in \u001b[0;36m<module>\u001b[1;34m\u001b[0m\n\u001b[0;32m      2\u001b[0m \u001b[0mscaler\u001b[0m \u001b[1;33m=\u001b[0m \u001b[0mStandardScaler\u001b[0m\u001b[1;33m(\u001b[0m\u001b[1;33m)\u001b[0m\u001b[1;33m\u001b[0m\u001b[1;33m\u001b[0m\u001b[0m\n\u001b[0;32m      3\u001b[0m \u001b[0mX_train\u001b[0m \u001b[1;33m=\u001b[0m \u001b[0mscaler\u001b[0m\u001b[1;33m.\u001b[0m\u001b[0mfit_transform\u001b[0m\u001b[1;33m(\u001b[0m\u001b[0mX_train\u001b[0m\u001b[1;33m)\u001b[0m\u001b[1;33m\u001b[0m\u001b[1;33m\u001b[0m\u001b[0m\n\u001b[1;32m----> 4\u001b[1;33m \u001b[0mX_test\u001b[0m \u001b[1;33m=\u001b[0m \u001b[0mscaler\u001b[0m\u001b[1;33m.\u001b[0m\u001b[0mtransform\u001b[0m\u001b[1;33m(\u001b[0m\u001b[0mX_test\u001b[0m\u001b[1;33m)\u001b[0m\u001b[1;33m\u001b[0m\u001b[1;33m\u001b[0m\u001b[0m\n\u001b[0m\u001b[0;32m      5\u001b[0m \u001b[1;33m\u001b[0m\u001b[0m\n\u001b[0;32m      6\u001b[0m \u001b[1;31m# Turn up tolerance for faster convergence\u001b[0m\u001b[1;33m\u001b[0m\u001b[1;33m\u001b[0m\u001b[1;33m\u001b[0m\u001b[0m\n",
      "\u001b[1;31mNameError\u001b[0m: name 'X_test' is not defined"
     ]
    }
   ],
   "source": [
    "\n",
    "scaler = StandardScaler()\n",
    "X_train = scaler.fit_transform(X_train)\n",
    "X_test = scaler.transform(X_test)\n",
    "\n",
    "# Turn up tolerance for faster convergence\n",
    "clf = LogisticRegression(\n",
    "    C=50. / train_samples, penalty='l1', solver='saga', tol=0.1\n",
    ")\n",
    "clf.fit(X_train, y_train)\n",
    "sparsity = np.mean(clf.coef_ == 0) * 100\n",
    "score = clf.score(X_test, y_test)\n",
    "# print('Best C % .4f' % clf.C_)\n",
    "print(\"Sparsity with L1 penalty: %.2f%%\" % sparsity)\n",
    "print(\"Test score with L1 penalty: %.4f\" % score)\n",
    "\n",
    "coef = clf.coef_.copy()\n",
    "plt.figure(figsize=(10, 5))\n",
    "scale = np.abs(coef).max()\n",
    "for i in range(10):\n",
    "    l1_plot = plt.subplot(2, 5, i + 1)\n",
    "    l1_plot.imshow(coef[i].reshape(28, 28), interpolation='nearest',\n",
    "                   cmap=plt.cm.RdBu, vmin=-scale, vmax=scale)\n",
    "    l1_plot.set_xticks(())\n",
    "    l1_plot.set_yticks(())\n",
    "    l1_plot.set_xlabel('Class %i' % i)\n",
    "plt.suptitle('Classification vector for...')\n",
    "\n",
    "#run_time = time.time() - t0\n",
    "#print('Example run in %.3f s' % run_time)\n",
    "plt.show()"
   ]
  },
  {
   "cell_type": "code",
   "execution_count": null,
   "metadata": {},
   "outputs": [],
   "source": []
  }
 ],
 "metadata": {
  "kernelspec": {
   "display_name": "Python 3",
   "language": "python",
   "name": "python3"
  },
  "language_info": {
   "codemirror_mode": {
    "name": "ipython",
    "version": 3
   },
   "file_extension": ".py",
   "mimetype": "text/x-python",
   "name": "python",
   "nbconvert_exporter": "python",
   "pygments_lexer": "ipython3",
   "version": "3.7.6"
  }
 },
 "nbformat": 4,
 "nbformat_minor": 2
}
