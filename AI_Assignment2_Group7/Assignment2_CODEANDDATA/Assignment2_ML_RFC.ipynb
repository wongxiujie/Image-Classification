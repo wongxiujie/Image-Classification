{
 "cells": [
  {
   "cell_type": "markdown",
   "metadata": {},
   "source": [
    "# Random Forest Classifier\n",
    "only accept 2D or lower array"
   ]
  },
  {
   "cell_type": "markdown",
   "metadata": {},
   "source": [
    "# Import necessary library\n",
    "Must be imported before loading the training data set"
   ]
  },
  {
   "cell_type": "code",
   "execution_count": 1,
   "metadata": {},
   "outputs": [],
   "source": [
    "import time\n",
    "import matplotlib\n",
    "import matplotlib.pyplot as plt\n",
    "import numpy as np\n",
    "import math\n",
    "\n",
    "from sklearn.datasets import fetch_openml\n",
    "from sklearn.linear_model import LogisticRegression\n",
    "from sklearn.model_selection import train_test_split\n",
    "from sklearn.preprocessing import StandardScaler\n",
    "from sklearn.utils import check_random_state\n",
    "import numpy as np\n",
    "import matplotlib.pyplot as plt\n",
    "import os\n",
    "import cv2\n",
    "from tqdm import tqdm\n",
    "import pickle"
   ]
  },
  {
   "cell_type": "markdown",
   "metadata": {},
   "source": [
    "# Load 1D_TrainingData_FEI"
   ]
  },
  {
   "cell_type": "code",
   "execution_count": 2,
   "metadata": {},
   "outputs": [
    {
     "name": "stderr",
     "output_type": "stream",
     "text": [
      "100%|██████████| 200/200 [00:00<00:00, 729.69it/s]\n",
      "100%|██████████| 200/200 [00:00<00:00, 730.10it/s]"
     ]
    },
    {
     "name": "stdout",
     "output_type": "stream",
     "text": [
      "Length of training Data\n",
      "400\n",
      "Check Shuffled Data\n",
      "1\n",
      "0\n",
      "1\n",
      "0\n",
      "1\n",
      "1\n",
      "0\n",
      "0\n",
      "1\n",
      "1\n"
     ]
    },
    {
     "name": "stderr",
     "output_type": "stream",
     "text": [
      "\n"
     ]
    }
   ],
   "source": [
    "DATADIR = \"AI_Assignment2_DataSet_V1\\FEI_DATASET_Sorted_V3\"\n",
    "CATEGORIES = [\"bad\", \"good\"]\n",
    "\n",
    "IMG_SIZE = 50 #set image size\n",
    "training_data = []\n",
    "\n",
    "def create_training_data():\n",
    "    for category in CATEGORIES:  # do bad and good\n",
    "\n",
    "        path = os.path.join(DATADIR,category)  # create path to bad and good\n",
    "        class_num = CATEGORIES.index(category)  # get the classification  (0 or a 1). 0=bad 1=good\n",
    "\n",
    "        for img in tqdm(os.listdir(path)):  # iterate over each image per dogs and cats\n",
    "            try:\n",
    "                img_array = cv2.imread(os.path.join(path,img) ,cv2.IMREAD_GRAYSCALE)  # convert to array\n",
    "                new_array = cv2.resize(img_array, (IMG_SIZE, IMG_SIZE))  # resize to normalize data size\n",
    "                training_data.append([new_array, class_num])  # add this to our training_data\n",
    "            except Exception as e:  # in the interest in keeping the output clean...\n",
    "                pass\n",
    "            #except OSError as e:\n",
    "            #    print(\"OSErrroBad img most likely\", e, os.path.join(path,img))\n",
    "            #except Exception as e:\n",
    "            #    print(\"general exception\", e, os.path.join(path,img))\n",
    "\n",
    "create_training_data()\n",
    "print('Length of training Data')\n",
    "print(len(training_data))\n",
    "\n",
    "# Shuffle the train data\n",
    "import random\n",
    "random.shuffle(training_data)\n",
    "\n",
    "# Check the train data were shuffled successful\n",
    "print(\"Check Shuffled Data\")\n",
    "for sample in training_data[:10]:\n",
    "    print(sample[1])\n",
    "\n",
    "#Add the trained data into a list\n",
    "X = []\n",
    "y = []\n",
    "\n",
    "for features,label in training_data:\n",
    "    X.append(features)\n",
    "    y.append(label)\n",
    "\n",
    "#Change the data to 2D array\n",
    "X_2D=[]\n",
    "for a in X:\n",
    "    X_2D.append(a.reshape(-1))\n",
    "    \n",
    "\n",
    "#Save the processed Training Data into a pickle file\n",
    "pickle_out = open(\"X_FEI_2D.pickle\",\"wb\")\n",
    "pickle.dump(X_2D, pickle_out)\n",
    "pickle_out.close()\n",
    "\n",
    "pickle_out = open(\"y_FEI_2D.pickle\",\"wb\")\n",
    "pickle.dump(y, pickle_out)\n",
    "pickle_out.close()"
   ]
  },
  {
   "cell_type": "markdown",
   "metadata": {},
   "source": [
    "# Load 1D_TrainingData_JAFFE"
   ]
  },
  {
   "cell_type": "code",
   "execution_count": 3,
   "metadata": {},
   "outputs": [
    {
     "name": "stderr",
     "output_type": "stream",
     "text": [
      "100%|██████████| 40/40 [00:00<00:00, 622.20it/s]\n",
      "100%|██████████| 39/39 [00:00<00:00, 890.32it/s]"
     ]
    },
    {
     "name": "stdout",
     "output_type": "stream",
     "text": [
      "Length of training Data\n",
      "79\n",
      "Check Shuffled Data\n",
      "1\n",
      "0\n",
      "1\n",
      "0\n",
      "1\n",
      "1\n",
      "0\n",
      "1\n",
      "0\n",
      "0\n"
     ]
    },
    {
     "name": "stderr",
     "output_type": "stream",
     "text": [
      "\n"
     ]
    }
   ],
   "source": [
    "DATADIR = \"AI_Assignment2_DataSet_V1\\JAFFE DATASET_Sorted_V3\"\n",
    "CATEGORIES = [\"bad\", \"good\"]\n",
    "\n",
    "IMG_SIZE = 50 #set image size\n",
    "training_data = []\n",
    "\n",
    "def create_training_data():\n",
    "    for category in CATEGORIES:  # do bad and good\n",
    "\n",
    "        path = os.path.join(DATADIR,category)  # create path to bad and good\n",
    "        class_num = CATEGORIES.index(category)  # get the classification  (0 or a 1). 0=bad 1=good\n",
    "\n",
    "        for img in tqdm(os.listdir(path)):  # iterate over each image per dogs and cats\n",
    "            try:\n",
    "                img_array = cv2.imread(os.path.join(path,img) ,cv2.IMREAD_GRAYSCALE)  # convert to array\n",
    "                new_array = cv2.resize(img_array, (IMG_SIZE, IMG_SIZE))  # resize to normalize data size\n",
    "                training_data.append([new_array, class_num])  # add this to our training_data\n",
    "            except Exception as e:  # in the interest in keeping the output clean...\n",
    "                pass\n",
    "            #except OSError as e:\n",
    "            #    print(\"OSErrroBad img most likely\", e, os.path.join(path,img))\n",
    "            #except Exception as e:\n",
    "            #    print(\"general exception\", e, os.path.join(path,img))\n",
    "\n",
    "create_training_data()\n",
    "print('Length of training Data')\n",
    "print(len(training_data))\n",
    "\n",
    "# Shuffle the train data\n",
    "import random\n",
    "random.shuffle(training_data)\n",
    "\n",
    "# Check the train data were shuffled successful\n",
    "print(\"Check Shuffled Data\")\n",
    "for sample in training_data[:10]:\n",
    "    print(sample[1])\n",
    "\n",
    "#Add the trained data into a list\n",
    "X = []\n",
    "y = []\n",
    "\n",
    "for features,label in training_data:\n",
    "    X.append(features)\n",
    "    y.append(label)\n",
    "\n",
    "#Change the data to 2D array\n",
    "X_2D=[]\n",
    "for a in X:\n",
    "    X_2D.append(a.reshape(-1))\n",
    "    \n",
    "\n",
    "#Save the processed Training Data into a pickle file\n",
    "pickle_out = open(\"X_JAFFE_2D.pickle\",\"wb\")\n",
    "pickle.dump(X_2D, pickle_out)\n",
    "pickle_out.close()\n",
    "\n",
    "pickle_out = open(\"y_JAFFE_2D.pickle\",\"wb\")\n",
    "pickle.dump(y, pickle_out)\n",
    "pickle_out.close()"
   ]
  },
  {
   "cell_type": "markdown",
   "metadata": {},
   "source": [
    "# Load 1D_TrainingData_FEIANDJAFFE"
   ]
  },
  {
   "cell_type": "code",
   "execution_count": 4,
   "metadata": {},
   "outputs": [
    {
     "name": "stderr",
     "output_type": "stream",
     "text": [
      "100%|██████████| 240/240 [00:00<00:00, 812.24it/s]\n",
      "100%|██████████| 239/239 [00:00<00:00, 795.17it/s]"
     ]
    },
    {
     "name": "stdout",
     "output_type": "stream",
     "text": [
      "Length of training Data\n",
      "0\n",
      "Check Shuffled Data\n"
     ]
    },
    {
     "name": "stderr",
     "output_type": "stream",
     "text": [
      "\n"
     ]
    }
   ],
   "source": [
    "DATADIR = \"AI_Assignment2_DataSet_V1\\FEI_AND_JAFFE_DATASET_Sorted_V3\"\n",
    "CATEGORIES = [\"bad\", \"good\"]\n",
    "\n",
    "IMG_SIZE = 50 #set image size\n",
    "training_data = []\n",
    "\n",
    "def create_training_data():\n",
    "    for category in CATEGORIES:  # do bad and good\n",
    "\n",
    "        path = os.path.join(DATADIR,category)  # create path to bad and good\n",
    "        class_num = CATEGORIES.index(category)  # get the classification  (0 or a 1). 0=bad 1=good\n",
    "\n",
    "        for img in tqdm(os.listdir(path)):  # iterate over each image per dogs and cats\n",
    "            try:\n",
    "                img_array = cv2.imread(os.path.join(path,img) ,cv2.IMREAD_GRAYSCALE)  # convert to array\n",
    "#                 new_array = cv2.resize(img_array, (IMG_SIZE, IMG_SIZE))  # resize to normalize data size\n",
    "                training_data.append([new_array, class_num])  # add this to our training_data\n",
    "            except Exception as e:  # in the interest in keeping the output clean...\n",
    "                pass\n",
    "            #except OSError as e:\n",
    "            #    print(\"OSErrroBad img most likely\", e, os.path.join(path,img))\n",
    "            #except Exception as e:\n",
    "            #    print(\"general exception\", e, os.path.join(path,img))\n",
    "\n",
    "create_training_data()\n",
    "print('Length of training Data')\n",
    "print(len(training_data))\n",
    "\n",
    "# Shuffle the train data\n",
    "import random\n",
    "random.shuffle(training_data)\n",
    "\n",
    "# Check the train data were shuffled successful\n",
    "print(\"Check Shuffled Data\")\n",
    "for sample in training_data[:10]:\n",
    "    print(sample[1])\n",
    "\n",
    "#Add the trained data into a list\n",
    "X = []\n",
    "y = []\n",
    "\n",
    "for features,label in training_data:\n",
    "    X.append(features)\n",
    "    y.append(label)\n",
    "\n",
    "#Change the data to 2D array\n",
    "X_2D=[]\n",
    "for a in X:\n",
    "    X_2D.append(a.reshape(-1))\n",
    "    \n",
    "\n",
    "#Save the processed Training Data into a pickle file\n",
    "pickle_out = open(\"X_FEIANDJAFFE_2D.pickle\",\"wb\")\n",
    "pickle.dump(X_2D, pickle_out)\n",
    "pickle_out.close()\n",
    "\n",
    "pickle_out = open(\"y_FEIANDJAFFE_2D.pickle\",\"wb\")\n",
    "pickle.dump(y, pickle_out)\n",
    "pickle_out.close()"
   ]
  },
  {
   "cell_type": "markdown",
   "metadata": {},
   "source": [
    "# Random Forest Classifier"
   ]
  },
  {
   "cell_type": "code",
   "execution_count": 5,
   "metadata": {},
   "outputs": [
    {
     "name": "stdout",
     "output_type": "stream",
     "text": [
      "79\n",
      "79\n"
     ]
    }
   ],
   "source": [
    "\n",
    "import pickle\n",
    "# TRAINED_DATASET_X=\"X_FEI_2D.pickle\"\n",
    "# TRAINED_DATASET_y=\"y_FEI_2D.pickle\"\n",
    "TRAINED_DATASET_X=\"X_JAFFE_2D.pickle\"\n",
    "TRAINED_DATASET_y=\"y_JAFFE_2D.pickle\"\n",
    "# TRAINED_DATASET_X=\"X_FEIANDJAFFE_2D.pickle\"\n",
    "# TRAINED_DATASET_y=\"y_FEIANDJAFFE_2D.pickle\"\n",
    "\n",
    "\n",
    "\n",
    "pickle_in = open(TRAINED_DATASET_X,\"rb\")\n",
    "X_train = pickle.load(pickle_in)\n",
    "\n",
    "pickle_in = open(TRAINED_DATASET_y,\"rb\")\n",
    "y_train = pickle.load(pickle_in)\n",
    "\n",
    "# Double check the length of data and labels\n",
    "print(len(X_train))\n",
    "print(len(y_train))"
   ]
  },
  {
   "cell_type": "code",
   "execution_count": 6,
   "metadata": {},
   "outputs": [
    {
     "data": {
      "text/plain": [
       "RandomForestClassifier(n_estimators=10, n_jobs=-1)"
      ]
     },
     "execution_count": 6,
     "metadata": {},
     "output_type": "execute_result"
    }
   ],
   "source": [
    "from sklearn.ensemble import BaggingClassifier, RandomForestClassifier, BaggingRegressor, RandomForestRegressor, GradientBoostingRegressor\n",
    "from sklearn.model_selection import cross_val_predict\n",
    "from sklearn.metrics import plot_confusion_matrix\n",
    "from sklearn import metrics\n",
    "\n",
    "\n",
    "import sklearn\n",
    "rfc = RandomForestClassifier(n_jobs=-1, n_estimators=10)\n",
    "rfc.fit(X_train, y_train)"
   ]
  },
  {
   "cell_type": "markdown",
   "metadata": {},
   "source": [
    "# Test Data Set"
   ]
  },
  {
   "cell_type": "code",
   "execution_count": 7,
   "metadata": {},
   "outputs": [
    {
     "name": "stderr",
     "output_type": "stream",
     "text": [
      "100%|██████████| 20/20 [00:00<00:00, 601.20it/s]\n",
      "100%|██████████| 20/20 [00:00<00:00, 718.55it/s]\n"
     ]
    }
   ],
   "source": [
    "import os\n",
    "from tqdm import tqdm\n",
    "import cv2\n",
    "\n",
    "X_test_data = []\n",
    "X_test_data_2D=[]\n",
    "y_test_data=[]\n",
    "files = []\n",
    "files_path=[]\n",
    "IMG_SIZE=50\n",
    "CATEGORIES = [\"bad\", \"good\"]\n",
    "def loadall_test_data():\n",
    "    \n",
    "    DATADIR = \"Assignment_Image\"\n",
    "    CATEGORIES = [\"bad\", \"good\"]\n",
    "    for category in CATEGORIES:  # do bad and good\n",
    "        path = os.path.join(DATADIR,category)  # create path to bad and good\n",
    "       \n",
    "        for img in tqdm(os.listdir(path)):  # iterate over each image per bad and good\n",
    "            try:\n",
    "                \n",
    "                files_path.append(os.path.join(path,img))                \n",
    "                files.append(img) # Add file name\n",
    "                img_array = cv2.imread(os.path.join(path,img) ,cv2.IMREAD_GRAYSCALE)  # convert to array\n",
    "                new_array = cv2.resize(img_array, (IMG_SIZE, IMG_SIZE))  # resize to normalize data size\n",
    "                X_test_data.append(new_array)  # add this to our test_data\n",
    "                if(category==CATEGORIES[0]):\n",
    "                    y_test_data.append(0)\n",
    "                elif(category==CATEGORIES[1]):\n",
    "                    y_test_data.append(1)\n",
    "            except Exception as e:  # in the interest in keeping the output clean...\n",
    "                pass\n",
    "            #except OSError as e:\n",
    "            #    print(\"OSErrroBad img most likely\", e, os.path.join(path,img))\n",
    "            #except Exception as e:\n",
    "            #    print(\"general exception\", e, os.path.join(path,img))\n",
    "    \n",
    "loadall_test_data()\n",
    "for b in X_test_data:\n",
    "    X_test_data_2D.append(b.reshape(-1))\n"
   ]
  },
  {
   "cell_type": "code",
   "execution_count": 52,
   "metadata": {
    "scrolled": false
   },
   "outputs": [
    {
     "name": "stdout",
     "output_type": "stream",
     "text": [
      "Accuracy\n",
      "0.55\n",
      "[1 1 1 1 0 1 1 1 1 1 0 1 1 1 1 0 1 1 1 1 1 1 1 1 1 1 1 1 0 1 1 1 1 1 1 1 1\n",
      " 1 1 1]\n",
      "File Name: 1.JPG\n",
      "File Path: Assignment_Image\\bad\\1.JPG\n",
      "Label:  good\n",
      "0\n",
      "File Name: 10.JPG\n",
      "File Path: Assignment_Image\\bad\\10.JPG\n",
      "Label:  good\n",
      "1\n",
      "File Name: 11.JPG\n",
      "File Path: Assignment_Image\\bad\\11.JPG\n",
      "Label:  good\n",
      "2\n",
      "File Name: 12.JPG\n",
      "File Path: Assignment_Image\\bad\\12.JPG\n",
      "Label:  good\n",
      "3\n",
      "File Name: 13.JPG\n",
      "File Path: Assignment_Image\\bad\\13.JPG\n",
      "Label:  bad\n",
      "4\n",
      "File Name: 14.JPG\n",
      "File Path: Assignment_Image\\bad\\14.JPG\n",
      "Label:  good\n",
      "5\n",
      "File Name: 15.JPG\n",
      "File Path: Assignment_Image\\bad\\15.JPG\n",
      "Label:  good\n",
      "6\n",
      "File Name: 16.JPG\n",
      "File Path: Assignment_Image\\bad\\16.JPG\n",
      "Label:  good\n",
      "7\n",
      "File Name: 17.JPG\n",
      "File Path: Assignment_Image\\bad\\17.JPG\n",
      "Label:  good\n",
      "8\n",
      "File Name: 18.JPG\n",
      "File Path: Assignment_Image\\bad\\18.JPG\n",
      "Label:  good\n",
      "9\n",
      "File Name: 19.JPG\n",
      "File Path: Assignment_Image\\bad\\19.JPG\n",
      "Label:  bad\n",
      "10\n",
      "File Name: 2.JPG\n",
      "File Path: Assignment_Image\\bad\\2.JPG\n",
      "Label:  good\n",
      "11\n",
      "File Name: 20.JPG\n",
      "File Path: Assignment_Image\\bad\\20.JPG\n",
      "Label:  good\n",
      "12\n",
      "File Name: 3.JPG\n",
      "File Path: Assignment_Image\\bad\\3.JPG\n",
      "Label:  good\n",
      "13\n",
      "File Name: 4.JPG\n",
      "File Path: Assignment_Image\\bad\\4.JPG\n",
      "Label:  good\n",
      "14\n",
      "File Name: 5.JPG\n",
      "File Path: Assignment_Image\\bad\\5.JPG\n",
      "Label:  bad\n",
      "15\n",
      "File Name: 6.JPG\n",
      "File Path: Assignment_Image\\bad\\6.JPG\n",
      "Label:  good\n",
      "16\n",
      "File Name: 7.JPG\n",
      "File Path: Assignment_Image\\bad\\7.JPG\n",
      "Label:  good\n",
      "17\n",
      "File Name: 8.JPG\n",
      "File Path: Assignment_Image\\bad\\8.JPG\n",
      "Label:  good\n",
      "18\n",
      "File Name: 9.JPG\n",
      "File Path: Assignment_Image\\bad\\9.JPG\n",
      "Label:  good\n",
      "19\n",
      "File Name: 1.JPG\n",
      "File Path: Assignment_Image\\good\\1.JPG\n",
      "Label:  good\n",
      "20\n",
      "File Name: 10.JPG\n",
      "File Path: Assignment_Image\\good\\10.JPG\n",
      "Label:  good\n",
      "21\n",
      "File Name: 11.JPG\n",
      "File Path: Assignment_Image\\good\\11.JPG\n",
      "Label:  good\n",
      "22\n",
      "File Name: 12.JPG\n",
      "File Path: Assignment_Image\\good\\12.JPG\n",
      "Label:  good\n",
      "23\n",
      "File Name: 13.JPG\n",
      "File Path: Assignment_Image\\good\\13.JPG\n",
      "Label:  good\n",
      "24\n",
      "File Name: 14.JPG\n",
      "File Path: Assignment_Image\\good\\14.JPG\n",
      "Label:  good\n",
      "25\n",
      "File Name: 15.JPG\n",
      "File Path: Assignment_Image\\good\\15.JPG\n",
      "Label:  good\n",
      "26\n",
      "File Name: 16.JPG\n",
      "File Path: Assignment_Image\\good\\16.JPG\n",
      "Label:  good\n",
      "27\n",
      "File Name: 17.JPG\n",
      "File Path: Assignment_Image\\good\\17.JPG\n",
      "Label:  bad\n",
      "28\n",
      "File Name: 18.JPG\n",
      "File Path: Assignment_Image\\good\\18.JPG\n",
      "Label:  good\n",
      "29\n",
      "File Name: 19.JPG\n",
      "File Path: Assignment_Image\\good\\19.JPG\n",
      "Label:  good\n",
      "30\n",
      "File Name: 2.JPG\n",
      "File Path: Assignment_Image\\good\\2.JPG\n",
      "Label:  good\n",
      "31\n",
      "File Name: 20.JPG\n",
      "File Path: Assignment_Image\\good\\20.JPG\n",
      "Label:  good\n",
      "32\n",
      "File Name: 3.JPG\n",
      "File Path: Assignment_Image\\good\\3.JPG\n",
      "Label:  good\n",
      "33\n",
      "File Name: 4.JPG\n",
      "File Path: Assignment_Image\\good\\4.JPG\n",
      "Label:  good\n",
      "34\n",
      "File Name: 5.JPG\n",
      "File Path: Assignment_Image\\good\\5.JPG\n",
      "Label:  good\n",
      "35\n",
      "File Name: 6.JPG\n",
      "File Path: Assignment_Image\\good\\6.JPG\n",
      "Label:  good\n",
      "36\n",
      "File Name: 7.JPG\n",
      "File Path: Assignment_Image\\good\\7.JPG\n",
      "Label:  good\n",
      "37\n",
      "File Name: 8.JPG\n",
      "File Path: Assignment_Image\\good\\8.JPG\n",
      "Label:  good\n",
      "38\n",
      "File Name: 9.JPG\n",
      "File Path: Assignment_Image\\good\\9.JPG\n",
      "Label:  good\n",
      "39\n"
     ]
    }
   ],
   "source": [
    "#Test the data\n",
    "print(\"Accuracy\")\n",
    "rfc.score(X_test_data_2D, y_test_data)\n",
    "y_pred=rfc.predict(X_test_data_2D)\n",
    "print(rfc.score(X_test_data_2D, y_test_data))\n",
    "print(y_pred)\n",
    "\n",
    "for i, p in enumerate(y_pred):\n",
    "    print(\"File Name:\",files[i])\n",
    "    print(\"File Path:\",files_path[i])\n",
    "    print(\"Label: \",CATEGORIES[p])\n",
    "    print(i)"
   ]
  },
  {
   "cell_type": "code",
   "execution_count": 8,
   "metadata": {},
   "outputs": [
    {
     "data": {
      "text/plain": [
       "<Figure size 864x576 with 0 Axes>"
      ]
     },
     "metadata": {},
     "output_type": "display_data"
    },
    {
     "data": {
      "image/png": "[encoded data removed]",
      "text/plain": [
       "<Figure size 864x864 with 2 Axes>"
      ]
     },
     "metadata": {
      "needs_background": "light"
     },
     "output_type": "display_data"
    }
   ],
   "source": [
    "import matplotlib\n",
    "import matplotlib.pyplot as plt\n",
    "plt.figure(figsize=(12,8))\n",
    "f,ax=plt.subplots(1,1,figsize=(12,12))\n",
    "# print(\"Classification report for classifier %s:\\n%s\\n\"\n",
    "#       % (rfc, metrics.classification_report(y_test, y_pred)))\n",
    "disp = metrics.plot_confusion_matrix(rfc, X_test_data_2D, y_test_data,normalize='true',ax=ax)\n",
    "\n",
    "# disp.figure_.suptitle(\"Confusion Matrix\")\n",
    "# print(\"Confusion matrix:\\n%s\" % disp.confusion_matrix)\n"
   ]
  },
  {
   "cell_type": "code",
   "execution_count": null,
   "metadata": {},
   "outputs": [],
   "source": []
  }
 ],
 "metadata": {
  "kernelspec": {
   "display_name": "Python 3 (ipykernel)",
   "language": "python",
   "name": "python3"
  },
  "language_info": {
   "codemirror_mode": {
    "name": "ipython",
    "version": 3
   },
   "file_extension": ".py",
   "mimetype": "text/x-python",
   "name": "python",
   "nbconvert_exporter": "python",
   "pygments_lexer": "ipython3",
   "version": "3.9.7"
  }
 },
 "nbformat": 4,
 "nbformat_minor": 2
}
