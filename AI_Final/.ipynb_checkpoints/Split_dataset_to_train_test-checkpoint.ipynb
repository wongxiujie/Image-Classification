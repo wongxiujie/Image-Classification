{
 "cells": [
  {
   "cell_type": "code",
   "execution_count": 2,
   "id": "8ffb5355",
   "metadata": {},
   "outputs": [],
   "source": [
    "# Importing libraries\n",
    "import os\n",
    "import numpy as np\n",
    "import shutil"
   ]
  },
  {
   "cell_type": "code",
   "execution_count": 2,
   "id": "6ac9fec2",
   "metadata": {},
   "outputs": [],
   "source": [
    "## Creating Train and Test folders\n",
    "root_dir = 'dataset'\n",
    "posCls = '/nonrecyclable'\n",
    "negCls = '/recyclable'\n",
    "\n",
    "os.makedirs(root_dir +'/train' + posCls)\n",
    "os.makedirs(root_dir +'/train' + negCls)\n",
    "#os.makedirs(root_dir +'/val' + posCls)\n",
    "#os.makedirs(root_dir +'/val' + negCls)\n",
    "os.makedirs(root_dir +'/test' + posCls)\n",
    "os.makedirs(root_dir +'/test' + negCls)\n"
   ]
  },
  {
   "cell_type": "code",
   "execution_count": 3,
   "id": "c1e4ea3d",
   "metadata": {},
   "outputs": [],
   "source": [
    "# Create folder for pickle files\n",
    "os.makedirs('pickle_file')"
   ]
  },
  {
   "cell_type": "code",
   "execution_count": 3,
   "id": "5c4fc003",
   "metadata": {},
   "outputs": [],
   "source": [
    "## Non-recyclable"
   ]
  },
  {
   "cell_type": "code",
   "execution_count": 4,
   "id": "65f2539d",
   "metadata": {},
   "outputs": [],
   "source": [
    "# Creating partitions of the data after shuffeling \n",
    "src = \"dataset/nonrecyclable\" # Folder to copy images from\n",
    "\n",
    "allFileNames = os.listdir(src)\n",
    "np.random.shuffle(allFileNames)\n",
    "# Split 80% for train set and 20% for test set\n",
    "train_FileNames, test_FileNames = np.split(np.array(allFileNames),[int(len(allFileNames)*0.8)])  \n",
    "\n",
    "train_FileNames = [src+'/' + name for name in train_FileNames]\n",
    "test_FileNames = [src+'/' + name for name in test_FileNames]"
   ]
  },
  {
   "cell_type": "code",
   "execution_count": 5,
   "id": "f59360fc",
   "metadata": {},
   "outputs": [
    {
     "name": "stdout",
     "output_type": "stream",
     "text": [
      "Total images:  775\n",
      "Training:  620\n",
      "Testing:  155\n"
     ]
    }
   ],
   "source": [
    "# Print out the images partition\n",
    "print('Total images: ', len(allFileNames))\n",
    "print('Training: ', len(train_FileNames))\n",
    "print('Testing: ', len(test_FileNames))\n"
   ]
  },
  {
   "cell_type": "code",
   "execution_count": 6,
   "id": "2fe2e236",
   "metadata": {},
   "outputs": [],
   "source": [
    "# Copy-pasting images\n",
    "for img in train_FileNames:\n",
    "    shutil.copy(img, \"dataset/train/nonrecyclable\")\n",
    "\n",
    "for img in test_FileNames:\n",
    "    shutil.copy(img, \"dataset/test/nonrecyclable\")"
   ]
  },
  {
   "cell_type": "code",
   "execution_count": 7,
   "id": "15be3681",
   "metadata": {},
   "outputs": [],
   "source": [
    "## Recyclable"
   ]
  },
  {
   "cell_type": "code",
   "execution_count": 8,
   "id": "5018f5e4",
   "metadata": {},
   "outputs": [],
   "source": [
    "# Creating partitions of the data after shuffeling\n",
    "src = \"dataset/recyclable\" # Folder to copy images from\n",
    "\n",
    "allFileNames = os.listdir(src)\n",
    "np.random.shuffle(allFileNames)\n",
    "train_FileNames, test_FileNames = np.split(np.array(allFileNames),[int(len(allFileNames)*0.8)])\n",
    "\n",
    "train_FileNames = [src+'/' + name for name in train_FileNames]\n",
    "test_FileNames = [src+'/' + name for name in test_FileNames]"
   ]
  },
  {
   "cell_type": "code",
   "execution_count": 9,
   "id": "4af6779d",
   "metadata": {},
   "outputs": [
    {
     "name": "stdout",
     "output_type": "stream",
     "text": [
      "Total images:  2069\n",
      "Training:  1655\n",
      "Testing:  414\n"
     ]
    }
   ],
   "source": [
    "# Print out the images partition\n",
    "print('Total images: ', len(allFileNames))\n",
    "print('Training: ', len(train_FileNames))\n",
    "print('Testing: ', len(test_FileNames))"
   ]
  },
  {
   "cell_type": "code",
   "execution_count": 10,
   "id": "f58540b4",
   "metadata": {},
   "outputs": [],
   "source": [
    "# Copy-pasting images\n",
    "for img in train_FileNames:\n",
    "    shutil.copy(img, \"dataset/train/recyclable\")\n",
    "\n",
    "for img in test_FileNames:\n",
    "    shutil.copy(img, \"dataset/test/recyclable\")"
   ]
  },
  {
   "cell_type": "code",
   "execution_count": null,
   "id": "d77d28e5",
   "metadata": {},
   "outputs": [],
   "source": []
  },
  {
   "cell_type": "code",
   "execution_count": null,
   "id": "f614518d",
   "metadata": {},
   "outputs": [],
   "source": []
  }
 ],
 "metadata": {
  "kernelspec": {
   "display_name": "Python 3 (ipykernel)",
   "language": "python",
   "name": "python3"
  },
  "language_info": {
   "codemirror_mode": {
    "name": "ipython",
    "version": 3
   },
   "file_extension": ".py",
   "mimetype": "text/x-python",
   "name": "python",
   "nbconvert_exporter": "python",
   "pygments_lexer": "ipython3",
   "version": "3.9.7"
  }
 },
 "nbformat": 4,
 "nbformat_minor": 5
}
